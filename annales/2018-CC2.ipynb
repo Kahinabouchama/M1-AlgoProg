{
 "cells": [
  {
   "cell_type": "markdown",
   "metadata": {},
   "source": [
    "**EXERCICE 1**"
   ]
  },
  {
   "cell_type": "code",
   "execution_count": 1,
   "metadata": {},
   "outputs": [
    {
     "name": "stdout",
     "output_type": "stream",
     "text": [
      "0.08793807029724121\n",
      "50494 17611 7412 31190 30939 81644 75211 42445 29714 60687 74894 59294 62202 33948 14002 27391 47385 68417 23758 88752 94738 21620 18398 37999 93368 49409 97948 84999 14805 71843 70658 1609 10147 74754 69328 71918 43083 89391 83817 27505 60110 49941 83810 5053 53547 35635 10011 46117 71848 8766 65213 31918 35168 80889 18019 11841 73368 5579 76121 29384 40344 64813 75400 58345 62411 54361 9281 9803 97212 89684 15523 42434 9624 36675 80035 59093 48569 33125 24596 19049 35584 66314 18968 65032 95883 26160 4067 19130 52099 10628 26695 10947 55187 64795 71670 99635 48574 25498 46713 52950 \n",
      "FFFFFFFFFFFFFFFFFFFFFFFFFFFFFFFFFFFFFFFFFFFFFFFFFFFFFFFFFFFFFFFFFFFFFFFFFFFFFFFFFFFFFFFFFFFFFFFFFFFF\n"
     ]
    }
   ],
   "source": [
    "import random,time\n",
    "\n",
    "def initTabs():\n",
    "    Tabs=[]\n",
    "    for i in range(100):\n",
    "        random.seed(i)\n",
    "        Tabs.append(random.sample(range(0,100000),1024))\n",
    "    return Tabs\n",
    "\n",
    "t0=time.time()\n",
    "Tabs=initTabs()\n",
    "print(time.time()-t0)\n",
    "for tab in Tabs:\n",
    "    print(tab[0], end=\" \")\n",
    "print()\n",
    "\n",
    "def isSorted(tab):\n",
    "    n=len(tab)-1\n",
    "    while n>0 and tab[n]>=tab[n-1]:\n",
    "        n-=1\n",
    "    if n==0:\n",
    "        return \"T\" #True\n",
    "    return \"F\" #False\n",
    "\n",
    "for tabs in Tabs:\n",
    "    print(isSorted(tab), end=\"\")\n",
    "print()"
   ]
  },
  {
   "cell_type": "markdown",
   "metadata": {},
   "source": [
    "**Q1**"
   ]
  },
  {
   "cell_type": "code",
   "execution_count": 2,
   "metadata": {},
   "outputs": [],
   "source": [
    "def tri_ins(tab):\n",
    "    for j in range(1,len(tab)):\n",
    "        i,k=j-1,tab[j]\n",
    "        while i>=0 and tab[i]>k:\n",
    "            tab[i+1]=tab[i]\n",
    "            i-=1\n",
    "        tab[i+1]=k"
   ]
  },
  {
   "cell_type": "code",
   "execution_count": 3,
   "metadata": {},
   "outputs": [
    {
     "name": "stdout",
     "output_type": "stream",
     "text": [
      "3.926663637161255\n",
      "TTTTTTTTTTTTTTTTTTTTTTTTTTTTTTTTTTTTTTTTTTTTTTTTTTTTTTTTTTTTTTTTTTTTTTTTTTTTTTTTTTTTTTTTTTTTTTTTTTTT\n"
     ]
    }
   ],
   "source": [
    "Tabs=initTabs()\n",
    "t0=time.time()\n",
    "for tab in Tabs:\n",
    "    tri_ins(tab)\n",
    "print(time.time()-t0)\n",
    "for tab in Tabs:\n",
    "    print(isSorted(tab), end=\"\")\n",
    "print()"
   ]
  },
  {
   "cell_type": "markdown",
   "metadata": {},
   "source": [
    "**Q2**"
   ]
  },
  {
   "cell_type": "code",
   "execution_count": 4,
   "metadata": {},
   "outputs": [],
   "source": [
    "def fusion(tab,p,q,r):\n",
    "    n1,n2=q-p+1,r-q\n",
    "    L,R=[],[]\n",
    "    for i in range(n1):\n",
    "        L.append(tab[p+i])\n",
    "    for j in range(n2):\n",
    "        R.append(tab[q+j+1])\n",
    "    i,j,k=0,0,p\n",
    "    while i<n1 and j<n2:\n",
    "        if L[i]<R[j]:\n",
    "            tab[k]=L[i]\n",
    "            i+=1\n",
    "            k+=1\n",
    "        else:\n",
    "            tab[k]=R[j]\n",
    "            j+=1\n",
    "            k+=1\n",
    "    if i==n1:\n",
    "        while j<n2:\n",
    "            tab[k]=R[j]\n",
    "            j+=1\n",
    "            k+=1\n",
    "    else:\n",
    "        while i<n1:\n",
    "            tab[k]=L[i]\n",
    "            i+=1\n",
    "            k+=1\n",
    "                \n",
    "def tri_fus(tab,p,r):\n",
    "    if p<r:\n",
    "        q=(p+r)//2\n",
    "        tri_fus(tab,p,q)\n",
    "        tri_fus(tab,q+1,r)\n",
    "        fusion(tab,p,q,r)"
   ]
  },
  {
   "cell_type": "code",
   "execution_count": 5,
   "metadata": {},
   "outputs": [
    {
     "name": "stdout",
     "output_type": "stream",
     "text": [
      "0.4350607395172119\n",
      "TTTTTTTTTTTTTTTTTTTTTTTTTTTTTTTTTTTTTTTTTTTTTTTTTTTTTTTTTTTTTTTTTTTTTTTTTTTTTTTTTTTTTTTTTTTTTTTTTTTT\n"
     ]
    }
   ],
   "source": [
    "Tabs=initTabs()\n",
    "t0=time.time()\n",
    "for tab in Tabs:\n",
    "    tri_fus(tab,0,1023)\n",
    "print(time.time()-t0)\n",
    "for tab in Tabs:\n",
    "    print(isSorted(tab), end=\"\")\n",
    "print()"
   ]
  },
  {
   "cell_type": "markdown",
   "metadata": {},
   "source": [
    "**Q3**"
   ]
  },
  {
   "cell_type": "code",
   "execution_count": 6,
   "metadata": {},
   "outputs": [],
   "source": [
    "def tri_ins(tab,p,r):\n",
    "    for j in range(p+1,r+1):\n",
    "        i,k=j-1,tab[j]\n",
    "        while i>=p and tab[i]>k:\n",
    "            tab[i+1]=tab[i]\n",
    "            i-=1\n",
    "        tab[i+1]=k\n",
    "\n",
    "def triMixte(tab,p,r,b):\n",
    "    if r-p>b:\n",
    "        q=(p+r)//2\n",
    "        triMixte(tab,p,q,b)\n",
    "        triMixte(tab,q+1,r,b)\n",
    "        fusion(tab,p,q,r)\n",
    "    else:\n",
    "        tri_ins(tab,p,r)"
   ]
  },
  {
   "cell_type": "code",
   "execution_count": 7,
   "metadata": {},
   "outputs": [
    {
     "name": "stdout",
     "output_type": "stream",
     "text": [
      "0.280712366104126\n",
      "TTTTTTTTTTTTTTTTTTTTTTTTTTTTTTTTTTTTTTTTTTTTTTTTTTTTTTTTTTTTTTTTTTTTTTTTTTTTTTTTTTTTTTTTTTTTTTTTTTTT\n"
     ]
    }
   ],
   "source": [
    "Tabs=initTabs()\n",
    "t0=time.time()\n",
    "for tab in Tabs:\n",
    "    triMixte(tab,0,1023,16)\n",
    "print(time.time()-t0)\n",
    "for tab in Tabs:\n",
    "    print(isSorted(tab), end=\"\")\n",
    "print()"
   ]
  },
  {
   "cell_type": "markdown",
   "metadata": {},
   "source": [
    "**Q4**"
   ]
  },
  {
   "cell_type": "markdown",
   "metadata": {},
   "source": [
    "On remarque que b=16 convient le mieux à ces exemples."
   ]
  },
  {
   "cell_type": "markdown",
   "metadata": {},
   "source": [
    "**EXERCICE 2**"
   ]
  },
  {
   "cell_type": "markdown",
   "metadata": {},
   "source": [
    "**Q1**"
   ]
  },
  {
   "cell_type": "code",
   "execution_count": 8,
   "metadata": {},
   "outputs": [],
   "source": [
    "def fibo(n):\n",
    "    tab=[0,1]\n",
    "    for i in range(n-2):\n",
    "        tab.append(tab[-1]+tab[-2])\n",
    "    return tab\n",
    "tab=fibo(32)\n",
    "tab.remove(1)"
   ]
  },
  {
   "cell_type": "markdown",
   "metadata": {},
   "source": [
    "**Q2**"
   ]
  },
  {
   "cell_type": "code",
   "execution_count": 9,
   "metadata": {},
   "outputs": [],
   "source": [
    "class Node:\n",
    "    def __init__(self,key):\n",
    "        self.left = None\n",
    "        self.right = None\n",
    "        self.key = key\n",
    "    \n",
    "    def inserer(self,key):\n",
    "        if key<self.key:\n",
    "            if self.left:\n",
    "                self.left.inserer(key)\n",
    "            else:\n",
    "                self.left=Node(key)\n",
    "        else:\n",
    "            if self.right:\n",
    "                self.right.inserer(key)\n",
    "            else:\n",
    "                self.right=Node(key)\n",
    "    \n",
    "    def parcours(self):\n",
    "        if self.left:\n",
    "            self.left.parcours()\n",
    "        print(self.key,end=\"  \")\n",
    "        if self.right:\n",
    "            self.right.parcours()\n",
    "    \n",
    "    def recherche_modifiee(self,key,h=0):\n",
    "        if key<self.key:\n",
    "            if self.left:\n",
    "                return self.left.recherche_modifiee(key,h+1)\n",
    "            else:\n",
    "                return None\n",
    "        elif key>self.key:\n",
    "            if self.right:\n",
    "                return self.right.recherche_modifiee(key,h+1)\n",
    "            else:\n",
    "                return None\n",
    "        else:\n",
    "            return h"
   ]
  },
  {
   "cell_type": "markdown",
   "metadata": {},
   "source": [
    "**Q3**"
   ]
  },
  {
   "cell_type": "code",
   "execution_count": 10,
   "metadata": {},
   "outputs": [],
   "source": [
    "k=16\n",
    "T=Node(tab[k-1])\n",
    "while k>1:\n",
    "    k=k//2\n",
    "    kk=k\n",
    "    while kk<=32:\n",
    "        T.inserer(tab[kk-1])\n",
    "        kk+=2*k"
   ]
  },
  {
   "cell_type": "markdown",
   "metadata": {},
   "source": [
    "**Q4**"
   ]
  },
  {
   "cell_type": "code",
   "execution_count": 11,
   "metadata": {},
   "outputs": [
    {
     "name": "stdout",
     "output_type": "stream",
     "text": [
      "[0, 1, 2, 3, 5, 8, 13, 21, 34, 55, 89, 144, 233, 377, 610, 987, 1597, 2584, 4181, 6765, 10946, 17711, 28657, 46368, 75025, 121393, 196418, 317811, 514229, 832040, 1346269]\n",
      "0  1  2  3  5  8  13  21  34  55  89  144  233  377  610  987  1597  2584  4181  6765  10946  17711  28657  46368  75025  121393  196418  317811  514229  832040  1346269  "
     ]
    }
   ],
   "source": [
    "print(tab)\n",
    "T.parcours()"
   ]
  },
  {
   "cell_type": "markdown",
   "metadata": {},
   "source": [
    "**Q5**"
   ]
  },
  {
   "cell_type": "code",
   "execution_count": 12,
   "metadata": {},
   "outputs": [
    {
     "data": {
      "text/plain": [
       "4"
      ]
     },
     "execution_count": 12,
     "metadata": {},
     "output_type": "execute_result"
    }
   ],
   "source": [
    "hauteur=0\n",
    "for k in tab:\n",
    "    hauteur=max(hauteur,T.recherche_modifiee(k))\n",
    "hauteur"
   ]
  },
  {
   "cell_type": "markdown",
   "metadata": {},
   "source": [
    "**EXERCICE 3**"
   ]
  },
  {
   "cell_type": "code",
   "execution_count": 13,
   "metadata": {},
   "outputs": [],
   "source": [
    "import copy\n",
    "A=[[2,5,13,29,47],[3,11,23,43,67],[7,19,41,61,79],[17,37,59,73,89],[31,53,71,83,97]]\n",
    "b=[19,38,74,114,144]\n",
    "#A,b=[copy.deepcopy(v) for v in [A0,b0]]"
   ]
  },
  {
   "cell_type": "code",
   "execution_count": 14,
   "metadata": {},
   "outputs": [],
   "source": [
    "def choixPivot(A,n,j):\n",
    "    k,m=-1,0\n",
    "    for i in range(j,n):\n",
    "        if abs(A[i][j])>m:\n",
    "            m=abs(A[i][j])\n",
    "            k=j;\n",
    "    return i\n",
    "\n",
    "def echangerLignes(A,n,i,j):\n",
    "    for k in range(j,n):\n",
    "        A[i][k],A[j][k]=A[j][k],A[i][k]\n",
    "        \n",
    "def transvection(A,n,i,j,c):\n",
    "    for k in range(j,n):\n",
    "        A[i][k]=A[i][k]-c*A[j][k]\n",
    "        \n",
    "def Gauss(A0,b0):\n",
    "    A,b=[copy.deepcopy(v) for v in [A0,b0]]\n",
    "    n=len(b)\n",
    "    assert n==len(A)\n",
    "    for i in range(n):\n",
    "        assert n==len(A[i])\n",
    "    for j in range(n):\n",
    "        i=choixPivot(A,n,j)\n",
    "        echangerLignes(A,n,i,j)\n",
    "        b[i],b[j]=b[j],b[i]\n",
    "        for i in range(j+1,n):\n",
    "            c=A[i][j]/A[j][j]\n",
    "            transvection(A,n,i,j,c)\n",
    "            b[i]=b[i]-c*b[j]\n",
    "    x = [0 for i in range(n)]\n",
    "    for i in range(n-1,-1,-1):\n",
    "        s=sum(A[i][k]*x[k] for k in range(i+1,n))\n",
    "        x[i]=(b[i]-s)/A[i][i]\n",
    "    return x"
   ]
  },
  {
   "cell_type": "code",
   "execution_count": 15,
   "metadata": {},
   "outputs": [
    {
     "data": {
      "text/plain": [
       "[-1, 2, 0, 2, -1]"
      ]
     },
     "execution_count": 15,
     "metadata": {},
     "output_type": "execute_result"
    }
   ],
   "source": [
    "Gauss(A,b)\n",
    "[round(r) for r in Gauss(A,b)]"
   ]
  },
  {
   "cell_type": "code",
   "execution_count": null,
   "metadata": {},
   "outputs": [],
   "source": []
  }
 ],
 "metadata": {
  "kernelspec": {
   "display_name": "Python 3",
   "language": "python",
   "name": "python3"
  },
  "language_info": {
   "codemirror_mode": {
    "name": "ipython",
    "version": 3
   },
   "file_extension": ".py",
   "mimetype": "text/x-python",
   "name": "python",
   "nbconvert_exporter": "python",
   "pygments_lexer": "ipython3",
   "version": "3.6.5"
  }
 },
 "nbformat": 4,
 "nbformat_minor": 2
}
