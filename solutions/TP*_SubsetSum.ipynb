{
 "cells": [
  {
   "cell_type": "markdown",
   "metadata": {},
   "source": [
    "## Partie 1: algorithme naïf"
   ]
  },
  {
   "cell_type": "code",
   "execution_count": 1,
   "metadata": {
    "collapsed": true
   },
   "outputs": [],
   "source": [
    "def subset_sum(S, t):\n",
    "    '''\n",
    "    Algorithme naïf pour calculer la solution d'un sac à dos.\n",
    "    '''\n",
    "    # On utilise la bijections entre l'intervale [0, 2^#S[ et les sous-ensembles de S\n",
    "    for s in range(2**len(S)):\n",
    "        subset = [x for i, x in enumerate(S) if s & 2**i]\n",
    "        if t == sum(subset):\n",
    "            return True, subset\n",
    "    return False"
   ]
  },
  {
   "cell_type": "code",
   "execution_count": 2,
   "metadata": {
    "collapsed": false
   },
   "outputs": [
    {
     "data": {
      "text/plain": [
       "(True, [16, 6])"
      ]
     },
     "execution_count": 2,
     "metadata": {},
     "output_type": "execute_result"
    }
   ],
   "source": [
    "S = [11, 23, 3, 27, 16, 6, 5, 3]\n",
    "subset_sum(S, 22)"
   ]
  },
  {
   "cell_type": "code",
   "execution_count": 3,
   "metadata": {
    "collapsed": false
   },
   "outputs": [
    {
     "data": {
      "text/plain": [
       "False"
      ]
     },
     "execution_count": 3,
     "metadata": {},
     "output_type": "execute_result"
    }
   ],
   "source": [
    "subset_sum(S, 10)"
   ]
  },
  {
   "cell_type": "code",
   "execution_count": 4,
   "metadata": {
    "collapsed": false
   },
   "outputs": [
    {
     "data": {
      "text/plain": [
       "(True, [23, 27, 6])"
      ]
     },
     "execution_count": 4,
     "metadata": {},
     "output_type": "execute_result"
    }
   ],
   "source": [
    "subset_sum(S, 56)"
   ]
  },
  {
   "cell_type": "markdown",
   "metadata": {},
   "source": [
    "## Partie 2: algorithme récursif"
   ]
  },
  {
   "cell_type": "code",
   "execution_count": 5,
   "metadata": {
    "collapsed": false
   },
   "outputs": [],
   "source": [
    "def partial_subset_sum(S, i, t):\n",
    "    '''\n",
    "    Solution d'un subset-sum tronqué au i-ème élément\n",
    "    '''\n",
    "    # Si on considère la sous-liste vide, on ne peut obtenir que 0\n",
    "    if i < 0:\n",
    "        return 0\n",
    "    # La meilleure solution ne contenant pas S[i]\n",
    "    M0 = partial_subset_sum(S, i-1, t)\n",
    "    # Et la meilleure solution contenant S[i]\n",
    "    if t - S[i] >= 0:\n",
    "        M1 = S[i] + partial_subset_sum(S, i-1, t - S[i])\n",
    "    else:\n",
    "        M1 = 0\n",
    "    return max(M0, M1)\n",
    "\n",
    "def subset_sum(S, t):\n",
    "    M = partial_subset_sum(S, len(S) - 1, t)\n",
    "    # On renvoie aussi le maximum atteignable <= t \n",
    "    # (solution du problème d'optimisation)\n",
    "    return M == t, M"
   ]
  },
  {
   "cell_type": "code",
   "execution_count": 6,
   "metadata": {
    "collapsed": false
   },
   "outputs": [
    {
     "data": {
      "text/plain": [
       "((True, 22), (False, 9), (True, 56))"
      ]
     },
     "execution_count": 6,
     "metadata": {},
     "output_type": "execute_result"
    }
   ],
   "source": [
    "subset_sum(S, 22), subset_sum(S, 10), subset_sum(S, 56)"
   ]
  },
  {
   "cell_type": "markdown",
   "metadata": {},
   "source": [
    "## Partie 3: programmation dynamique"
   ]
  },
  {
   "cell_type": "code",
   "execution_count": 7,
   "metadata": {
    "collapsed": false
   },
   "outputs": [],
   "source": [
    "def partial_subset_sum_memo(S, i, t):\n",
    "    '''\n",
    "    Solution d'un subset-sum tronqué au i-ème élément, par mémoisation\n",
    "    '''\n",
    "    # Si on considère la sous-liste vide, on ne peut obtenir que 0\n",
    "    if i < 0:\n",
    "        return [0]\n",
    "    # Les sous-ensembles ne contenant pas S[i]\n",
    "    P0 = partial_subset_sum_memo(S, i-1, t)\n",
    "    # Et les sous-ensembles contenant S[i]\n",
    "    P1 = [S[i] + s for s in P0 if s + S[i] <= t]\n",
    "    # On fusionne les listes P0 et P1, avec la même procédure que le tri fusion\n",
    "    P = [0]\n",
    "    while P0 and P1:\n",
    "        if P0[0] < P1[0]:\n",
    "            c = P0.pop(0)\n",
    "        else:\n",
    "            c = P1.pop(0)\n",
    "        # Inutile d'avoir des dupliqués dans la liste\n",
    "        if c != P[-1]:\n",
    "            P.append(c)\n",
    "    # S'il reste des éléments dans P0 ou P1, on les ajoute\n",
    "    P.extend(P0 + P1)\n",
    "    return P\n",
    "\n",
    "def subset_sum_memo(S, t):\n",
    "    P = partial_subset_sum_memo(S, len(S) - 1, t)\n",
    "    # On renvoie aussi le maximum atteignable <= t \n",
    "    # (solution du problème d'optimisation)\n",
    "    return P[-1] == t, P[-1]"
   ]
  },
  {
   "cell_type": "code",
   "execution_count": 8,
   "metadata": {
    "collapsed": false
   },
   "outputs": [
    {
     "data": {
      "text/plain": [
       "((True, 22), (False, 9), (True, 56))"
      ]
     },
     "execution_count": 8,
     "metadata": {},
     "output_type": "execute_result"
    }
   ],
   "source": [
    "subset_sum_memo(S, 22), subset_sum_memo(S, 10), subset_sum_memo(S, 56)"
   ]
  },
  {
   "cell_type": "code",
   "execution_count": 9,
   "metadata": {
    "collapsed": true
   },
   "outputs": [],
   "source": [
    "def partial_subset_sum_dyn(S, i, t):\n",
    "    '''\n",
    "    Solution d'un subset-sum tronqué au i-ème élément, par programmation dynamique\n",
    "    '''\n",
    "    P = [0]\n",
    "    for j in range(i+1):\n",
    "        # Les sous-ensembles contenant S[j]\n",
    "        P1 = [s + S[j] for s in P if s + S[j] <= t]\n",
    "        # On fusionne les listes P et P1\n",
    "        newP = [0]\n",
    "        while P and P1:\n",
    "            if P[0] < P1[0]:\n",
    "                c = P.pop(0)\n",
    "            else:\n",
    "                c = P1.pop(0)\n",
    "            # Inutile d'avoir des dupliqués dans la liste\n",
    "            if c != newP[-1]:\n",
    "                newP.append(c)\n",
    "        # S'il reste des éléments dans P0 ou P1, on les ajoute\n",
    "        newP.extend(P + P1)\n",
    "        P = newP\n",
    "    return P[-1]\n",
    "\n",
    "def subset_sum_dyn(S, t):\n",
    "    M = partial_subset_sum_dyn(S, len(S) - 1, t)\n",
    "    # On renvoie aussi le maximum atteignable <= t \n",
    "    # (solution du problème d'optimisation)\n",
    "    return M == t, M"
   ]
  },
  {
   "cell_type": "code",
   "execution_count": 10,
   "metadata": {
    "collapsed": false
   },
   "outputs": [
    {
     "data": {
      "text/plain": [
       "((True, 22), (False, 9), (True, 56))"
      ]
     },
     "execution_count": 10,
     "metadata": {},
     "output_type": "execute_result"
    }
   ],
   "source": [
    "subset_sum_dyn(S, 22), subset_sum_dyn(S, 10), subset_sum_dyn(S, 56)"
   ]
  },
  {
   "cell_type": "code",
   "execution_count": 11,
   "metadata": {
    "collapsed": true
   },
   "outputs": [],
   "source": [
    "import random\n",
    "S = [random.randrange(2**32) for _ in range(2^16)]\n",
    "t = random.randrange(2**36)"
   ]
  },
  {
   "cell_type": "code",
   "execution_count": 12,
   "metadata": {
    "collapsed": false
   },
   "outputs": [
    {
     "name": "stdout",
     "output_type": "stream",
     "text": [
      "10 loops, best of 3: 170 ms per loop\n",
      "1 loop, best of 3: 6.79 s per loop\n",
      "1 loop, best of 3: 6.74 s per loop\n"
     ]
    }
   ],
   "source": [
    "%timeit subset_sum(S, t)\n",
    "%timeit subset_sum_memo(S, t)\n",
    "%timeit subset_sum_dyn(S, t)"
   ]
  },
  {
   "cell_type": "markdown",
   "metadata": {},
   "source": [
    "Décevant, n'est-ce pas ? C'est le coût à payer quand on utilise beaucoup de mémoire: une solution qui a l'air plus intelligente en principe, peut être pénalisée par une plus grande complexité des accés à la mémoire.\n",
    "\n",
    "Nos versions mémoisées et par programmation dynamique pourraient être optimisées, mais obtenir un algorithme vraiment rapide est un vrai travail de niveau recherche (par exemple en optimisation ou cryptologie)."
   ]
  },
  {
   "cell_type": "code",
   "execution_count": null,
   "metadata": {
    "collapsed": true
   },
   "outputs": [],
   "source": []
  }
 ],
 "metadata": {
  "kernelspec": {
   "display_name": "Python 3",
   "language": "python",
   "name": "python3"
  },
  "language_info": {
   "codemirror_mode": {
    "name": "ipython",
    "version": 3
   },
   "file_extension": ".py",
   "mimetype": "text/x-python",
   "name": "python",
   "nbconvert_exporter": "python",
   "pygments_lexer": "ipython3",
   "version": "3.5.1"
  }
 },
 "nbformat": 4,
 "nbformat_minor": 0
}
