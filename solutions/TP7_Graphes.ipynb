{
 "cells": [
  {
   "cell_type": "code",
   "execution_count": 1,
   "metadata": {},
   "outputs": [
    {
     "data": {
      "text/plain": [
       "'3.6.4 (default, Feb  8 2018, 14:42:51) \\n[GCC 7.3.1 20180130 (Red Hat 7.3.1-2)]'"
      ]
     },
     "execution_count": 1,
     "metadata": {},
     "output_type": "execute_result"
    }
   ],
   "source": [
    "import sys\n",
    "sys.version"
   ]
  },
  {
   "cell_type": "markdown",
   "metadata": {},
   "source": [
    "## Matrices\n",
    "\n",
    "Exercices 1.1 à 1.3"
   ]
  },
  {
   "cell_type": "code",
   "execution_count": 2,
   "metadata": {},
   "outputs": [],
   "source": [
    "class Matrice:\n",
    "    \"\"\"\n",
    "    Ceci est une matrice.\n",
    "    \n",
    "    Passer une liste de coefficents au constructeur.\n",
    "    \"\"\"\n",
    "    def __init__(self, coefficients):\n",
    "        if not isinstance(coefficients, list):\n",
    "            raise RuntimeError(\"Pas une liste\")\n",
    "        if not len(coefficients) > 0:\n",
    "            raise RuntimeError(\"Matrice vide\")\n",
    "        if not all(isinstance(ligne, list)\n",
    "                   for ligne in coefficients):\n",
    "            raise RuntimeError(\"Pas une liste de listes\")\n",
    "            \n",
    "        self.nblignes = len(coefficients)\n",
    "        self.nbcolonnes = len(coefficients[0])\n",
    "        \n",
    "        if not all(len(ligne) == self.nbcolonnes\n",
    "                   for ligne in coefficients):\n",
    "            raise RuntimeError(\"Longueurs des lignes différentes\")\n",
    "        self.coeffs = coefficients\n",
    "   \n",
    "    def __repr__(self):\n",
    "        # On mesure la largeur maximale des colonnes\n",
    "        largeur = max(max(len(str(c)) for c in ligne) for ligne in self.coeffs)\n",
    "        \n",
    "        # On compose la sortie. On fait un large usage des fonctions de formatage\n",
    "        # \n",
    "        # https://docs.python.org/3.5/library/stdtypes.html#printf-style-string-formatting\n",
    "        resultat = \"\"\n",
    "        for (i, ligne) in enumerate(self.coeffs):\n",
    "            if i == 0:\n",
    "                template = \"/ %s \\\\\\n\" \n",
    "            elif i < len(self.coeffs) - 1:\n",
    "                template = \"| %s |\\n\" \n",
    "            else:\n",
    "                template = \"\\\\ %s /\"\n",
    "            resultat += template % \" \".join((\"%%%dd\" % largeur) % c for c in ligne)\n",
    "        return resultat\n",
    "    \n",
    "    def __eq__(self, other):\n",
    "        \"Méthode spéciale pour tester l'égalité de matrices\"\n",
    "        if not isinstance(other, Matrice):\n",
    "            return False\n",
    "        if self.nblignes != other.nblignes or self.nbcolonnes != other.nbcolonnes:\n",
    "            return False\n",
    "        for i in range(self.nblignes):\n",
    "            for j in range(self.nbcolonnes):\n",
    "                if self.coeffs[i][j] != other.coeffs[i][j]:\n",
    "                    return False\n",
    "        return True\n",
    "    \n",
    "    def diagonale(self):\n",
    "        \"Renvoie la diagonale de la matrice\"\n",
    "        resultat = []\n",
    "        for (i,c) in enumerate(self.coeffs):\n",
    "            resultat.append(c[i])\n",
    "        return resultat\n",
    "    \n",
    "def rand_mat(lignes, colonnes, coeffs, min=1, max=1, sym=False):\n",
    "    if (sym and lignes != colonnes):\n",
    "        raise RuntimeError(\"Seules les matrices carrées peuvent être symétriques\")\n",
    "    if coeffs > lignes*colonnes:\n",
    "        raise RuntimeError(\"Trop de coefficients\")\n",
    "    \n",
    "    # On crée une liste avec autant d'éléments que la matrice à créer\n",
    "    # Elle commence par des éléments entre min et max, et se termine par des 0\n",
    "    from random import randint, sample\n",
    "    nonzero = coeffs if not sym else coeffs // 2\n",
    "    total = lignes*colonnes if not sym else lignes*(lignes+1) // 2\n",
    "    entrees = [randint(min, max) for _ in range(nonzero)] + [0]*(total - nonzero)\n",
    "    \n",
    "    # On permute la liste avec l'algorithme de Fisher-Yates \n",
    "    # https://en.wikipedia.org/wiki/Fisher–Yates_shuffle\n",
    "    for i in reversed(range(len(entrees))):\n",
    "        j = randint(0,i)\n",
    "        entrees[i], entrees[j] = entrees[j], entrees[i]\n",
    "        \n",
    "    if not sym:\n",
    "        # On découpe en lignes\n",
    "        mat = [entrees[i*colonnes : (i+1)*colonnes] for i in range(lignes)]\n",
    "    else:\n",
    "        # On remplit la partie triangulaire inférieure\n",
    "        mat = [entrees[i*(i+1)//2 : (i+1)*(i+2)//2] + [None]*(lignes-i-1)\n",
    "               for i in range(lignes)]\n",
    "        # On symétrise\n",
    "        for i in range(lignes):\n",
    "            for j in range(i+1,lignes):\n",
    "                mat[i][j] = mat[j][i]\n",
    "        # On a été assez laxistes par rapport au paramètre coeffs\n",
    "    return Matrice(mat)"
   ]
  },
  {
   "cell_type": "code",
   "execution_count": 3,
   "metadata": {},
   "outputs": [
    {
     "data": {
      "text/plain": [
       "/   0   0   0   6   2   0   0  -2   0   0 \\\n",
       "|   0  -1   0   0   0   0   0   0   0  -3 |\n",
       "|   0   0   0   0   0   0   0   0   0   5 |\n",
       "|   6   0   0   0   0 -10   0   0   0   0 |\n",
       "|   2   0   0   0   0   0   0   0   0   0 |\n",
       "|   0   0   0 -10   0  -2   0   0   0   0 |\n",
       "|   0   0   0   0   0   0   0   0   0  -8 |\n",
       "|  -2   0   0   0   0   0   0   0   0   0 |\n",
       "|   0   0   0   0   0   0   0   0   0   0 |\n",
       "\\   0  -3   5   0   0   0  -8   0   0   0 /"
      ]
     },
     "execution_count": 3,
     "metadata": {},
     "output_type": "execute_result"
    }
   ],
   "source": [
    "rand_mat(10,10,20,-10,10,True)"
   ]
  },
  {
   "cell_type": "markdown",
   "metadata": {},
   "source": [
    "## Pointeurs\n",
    "\n",
    "Exercices 1.4 à 1.7"
   ]
  },
  {
   "cell_type": "code",
   "execution_count": 4,
   "metadata": {},
   "outputs": [],
   "source": [
    "class Noeud:\n",
    "    # Variable de classe, pour avoir un affichage plus lisible\n",
    "    counter = 0\n",
    "    \n",
    "    def __init__(self, out):\n",
    "        assert isinstance(out, list), \"Pas une liste\"\n",
    "        assert all(isinstance(n, Noeud) for n in out), \"Pas une liste de noeuds\"\n",
    "        self.out = out\n",
    "        self.cnt = Noeud.counter\n",
    "        Noeud.counter += 1\n",
    "        \n",
    "    def __repr__(self):\n",
    "        return \"Noeud(%d) %s\" % (self.cnt, \" \".join(\"→%d\" % u.cnt for u in self.out))\n",
    "    \n",
    "class Graphe:\n",
    "    def __init__(self, noeuds):\n",
    "        assert isinstance(noeuds, list), \"Pas une liste\"\n",
    "        assert all(isinstance(n, Noeud) for n in noeuds), \"Pas une liste de noeuds\"\n",
    "        self.noeuds = noeuds\n",
    "    \n",
    "    def __repr__(self):\n",
    "        return \"Graphe:\\n\\t\" + \"\\n\\t\".join(map(repr, self.noeuds))\n",
    "    \n",
    "    def adjacence(self):\n",
    "        # On remplit la matrice de 0\n",
    "        mat = [[0 for _ in self.noeuds] for _ in self.noeuds]\n",
    "        # On met les 1\n",
    "        for (i,v) in enumerate(self.noeuds):\n",
    "            for u in v.out:\n",
    "                mat[i][self.noeuds.index(u)] = 1\n",
    "        return Matrice(mat)"
   ]
  },
  {
   "cell_type": "code",
   "execution_count": 5,
   "metadata": {},
   "outputs": [
    {
     "data": {
      "text/plain": [
       "Graphe:\n",
       "\tNoeud(0) →1\n",
       "\tNoeud(1) →0\n",
       "\tNoeud(2) →0 →1"
      ]
     },
     "execution_count": 5,
     "metadata": {},
     "output_type": "execute_result"
    }
   ],
   "source": [
    "A = Noeud([])\n",
    "B = Noeud([A])\n",
    "C = Noeud([A, B])\n",
    "A.out.append(B)\n",
    "G = Graphe([A, B, C])\n",
    "G"
   ]
  },
  {
   "cell_type": "code",
   "execution_count": 6,
   "metadata": {},
   "outputs": [
    {
     "data": {
      "text/plain": [
       "/ 0 1 0 \\\n",
       "| 1 0 0 |\n",
       "\\ 1 1 0 /"
      ]
     },
     "execution_count": 6,
     "metadata": {},
     "output_type": "execute_result"
    }
   ],
   "source": [
    "G.adjacence()"
   ]
  },
  {
   "cell_type": "code",
   "execution_count": 7,
   "metadata": {},
   "outputs": [],
   "source": [
    "def mat_to_graph(mat):\n",
    "    assert mat.nblignes == mat.nbcolonnes, \"Pas une matrice carrée\"\n",
    "    G = Graphe([Noeud([]) for _ in range(mat.nblignes)])\n",
    "    for (i, ligne) in enumerate(mat.coeffs):\n",
    "        for (j, c) in enumerate(ligne):\n",
    "            if c:\n",
    "                G.noeuds[i].out.append(G.noeuds[j])\n",
    "    return G\n",
    "\n",
    "Matrice.graphe = mat_to_graph"
   ]
  },
  {
   "cell_type": "code",
   "execution_count": 8,
   "metadata": {},
   "outputs": [
    {
     "data": {
      "text/plain": [
       "Graphe:\n",
       "\tNoeud(3) \n",
       "\tNoeud(4) →8 →11 →12\n",
       "\tNoeud(5) →6 →7 →9 →10\n",
       "\tNoeud(6) →5 →9\n",
       "\tNoeud(7) →5 →6 →10 →12\n",
       "\tNoeud(8) →5 →9\n",
       "\tNoeud(9) →3 →11\n",
       "\tNoeud(10) \n",
       "\tNoeud(11) →3\n",
       "\tNoeud(12) →6 →10"
      ]
     },
     "execution_count": 8,
     "metadata": {},
     "output_type": "execute_result"
    }
   ],
   "source": [
    "M = rand_mat(10,10,20)\n",
    "G = M.graphe()\n",
    "G"
   ]
  },
  {
   "cell_type": "code",
   "execution_count": 9,
   "metadata": {},
   "outputs": [
    {
     "data": {
      "text/plain": [
       "True"
      ]
     },
     "execution_count": 9,
     "metadata": {},
     "output_type": "execute_result"
    }
   ],
   "source": [
    "G.adjacence() == M"
   ]
  }
 ],
 "metadata": {
  "kernelspec": {
   "display_name": "Python 3",
   "language": "python",
   "name": "python3"
  },
  "language_info": {
   "codemirror_mode": {
    "name": "ipython",
    "version": 3
   },
   "file_extension": ".py",
   "mimetype": "text/x-python",
   "name": "python",
   "nbconvert_exporter": "python",
   "pygments_lexer": "ipython3",
   "version": "3.6.4"
  }
 },
 "nbformat": 4,
 "nbformat_minor": 1
}
{
 "cells": [
  {
   "cell_type": "code",
   "execution_count": 12,
   "metadata": {
    "collapsed": false
   },
   "outputs": [
    {
     "data": {
      "text/plain": [
       "'3.5.1 (default, Dec  7 2015, 12:58:09) \\n[GCC 5.2.0]'"
      ]
     },
     "execution_count": 12,
     "metadata": {},
     "output_type": "execute_result"
    }
   ],
   "source": [
    "import sys\n",
    "sys.version"
   ]
  },
  {
   "cell_type": "markdown",
   "metadata": {},
   "source": [
    "## Matrices\n",
    "\n",
    "Exercices 1.1 à 1.3"
   ]
  },
  {
   "cell_type": "code",
   "execution_count": 245,
   "metadata": {
    "collapsed": false
   },
   "outputs": [],
   "source": [
    "class Matrice:\n",
    "    \"\"\"\n",
    "    Ceci est une matrice.\n",
    "    \n",
    "    Passer une liste de coefficents au constructeur.\n",
    "    \"\"\"\n",
    "    def __init__(self, coefficients):\n",
    "        if not isinstance(coefficients, list):\n",
    "            raise RuntimeError(\"Pas une liste\")\n",
    "        if not len(coefficients) > 0:\n",
    "            raise RuntimeError(\"Matrice vide\")\n",
    "        if not all(isinstance(ligne, list)\n",
    "                   for ligne in coefficients):\n",
    "            raise RuntimeError(\"Pas une liste de listes\")\n",
    "            \n",
    "        self.nblignes = len(coefficients)\n",
    "        self.nbcolonnes = len(coefficients[0])\n",
    "        \n",
    "        if not all(len(ligne) == self.nbcolonnes\n",
    "                   for ligne in coefficients):\n",
    "            raise RuntimeError(\"Longueurs des lignes différentes\")\n",
    "        self.coeffs = coefficients\n",
    "   \n",
    "    def __repr__(self):\n",
    "        # On mesure la largeur maximale des colonnes\n",
    "        largeur = max(max(len(str(c)) for c in ligne) for ligne in self.coeffs)\n",
    "        \n",
    "        # On compose la sortie. On fait un large usage des fonctions de formatage\n",
    "        # \n",
    "        # https://docs.python.org/3.5/library/stdtypes.html#printf-style-string-formatting\n",
    "        resultat = \"\"\n",
    "        for (i, ligne) in enumerate(self.coeffs):\n",
    "            if i == 0:\n",
    "                template = \"/ %s \\\\\\n\" \n",
    "            elif i < len(self.coeffs) - 1:\n",
    "                template = \"| %s |\\n\" \n",
    "            else:\n",
    "                template = \"\\\\ %s /\"\n",
    "            resultat += template % \" \".join((\"%%%dd\" % largeur) % c for c in ligne)\n",
    "        return resultat\n",
    "    \n",
    "    def __eq__(self, other):\n",
    "        \"Méthode spéciale pour tester l'égalité de matrices\"\n",
    "        if not isinstance(other, Matrice):\n",
    "            return False\n",
    "        if self.nblignes != other.nblignes or self.nbcolonnes != other.nbcolonnes:\n",
    "            return False\n",
    "        for i in range(self.nblignes):\n",
    "            for j in range(self.nbcolonnes):\n",
    "                if self.coeffs[i][j] != other.coeffs[i][j]:\n",
    "                    return False\n",
    "        return True\n",
    "    \n",
    "    def diagonale(self):\n",
    "        \"Renvoie la diagonale de la matrice\"\n",
    "        resultat = []\n",
    "        for (i,c) in enumerate(self.coeffs):\n",
    "            resultat.append(c[i])\n",
    "        return resultat\n",
    "    \n",
    "def rand_mat(lignes, colonnes, coeffs, min=1, max=1, sym=False):\n",
    "    if (sym and lignes != colonnes):\n",
    "        raise RuntimeError(\"Seules les matrices carrées peuvent être symétriques\")\n",
    "    if coeffs > lignes*colonnes:\n",
    "        raise RuntimeError(\"Trop de coefficients\")\n",
    "    \n",
    "    # On crée une liste avec autant d'éléments que la matrice à créer\n",
    "    # Elle commence par des éléments entre min et max, et se termine par des 0\n",
    "    from random import randint, sample\n",
    "    nonzero = coeffs if not sym else coeffs // 2\n",
    "    total = lignes*colonnes if not sym else lignes*(lignes+1) // 2\n",
    "    entrees = [randint(min, max) for _ in range(nonzero)] + [0]*(total - nonzero)\n",
    "    \n",
    "    # On permute la liste avec l'algorithme de Fisher-Yates \n",
    "    # https://en.wikipedia.org/wiki/Fisher–Yates_shuffle\n",
    "    for i in reversed(range(len(entrees))):\n",
    "        j = randint(0,i)\n",
    "        entrees[i], entrees[j] = entrees[j], entrees[i]\n",
    "        \n",
    "    if not sym:\n",
    "        # On découpe en lignes\n",
    "        mat = [entrees[i*colonnes : (i+1)*colonnes] for i in range(lignes)]\n",
    "    else:\n",
    "        # On remplit la partie triangulaire inférieure\n",
    "        mat = [entrees[i*(i+1)//2 : (i+1)*(i+2)//2] + [None]*(lignes-i-1)\n",
    "               for i in range(lignes)]\n",
    "        # On symétrise\n",
    "        for i in range(lignes):\n",
    "            for j in range(i+1,lignes):\n",
    "                mat[i][j] = mat[j][i]\n",
    "        # On a été assez laxistes par rapport au paramètre coeffs\n",
    "    return Matrice(mat)"
   ]
  },
  {
   "cell_type": "code",
   "execution_count": 246,
   "metadata": {
    "collapsed": false
   },
   "outputs": [
    {
     "data": {
      "text/plain": [
       "/   0  -4   0   0   0   0   0   0  -8   0 \\\n",
       "|  -4   0   0   0   0   0   0  -1   0   0 |\n",
       "|   0   0   0  10   0   0   0   0   0   0 |\n",
       "|   0   0  10   0   0  -5   0   0   0  -5 |\n",
       "|   0   0   0   0   0   0   0   0   0   0 |\n",
       "|   0   0   0  -5   0  -2   0   0   0   0 |\n",
       "|   0   0   0   0   0   0   0   0 -10   0 |\n",
       "|   0  -1   0   0   0   0   0  -7   0   0 |\n",
       "|  -8   0   0   0   0   0 -10   0   0   2 |\n",
       "\\   0   0   0  -5   0   0   0   0   2   0 /"
      ]
     },
     "execution_count": 246,
     "metadata": {},
     "output_type": "execute_result"
    }
   ],
   "source": [
    "rand_mat(10,10,20,-10,10,True)"
   ]
  },
  {
   "cell_type": "markdown",
   "metadata": {},
   "source": [
    "## Pointeurs\n",
    "\n",
    "Exercices 1.4 à 1.7"
   ]
  },
  {
   "cell_type": "code",
   "execution_count": 247,
   "metadata": {
    "collapsed": false
   },
   "outputs": [],
   "source": [
    "class Noeud:\n",
    "    # Variable de classe, pour avoir un affichage plus lisible\n",
    "    counter = 0\n",
    "    \n",
    "    def __init__(self, out):\n",
    "        assert isinstance(out, list), \"Pas une liste\"\n",
    "        assert all(isinstance(n, Noeud) for n in out), \"Pas une liste de noeuds\"\n",
    "        self.out = out\n",
    "        self.cnt = Noeud.counter\n",
    "        Noeud.counter += 1\n",
    "        \n",
    "    def __repr__(self):\n",
    "        return \"Noeud(%d) %s\" % (self.cnt, \" \".join(\"→%d\" % u.cnt for u in self.out))\n",
    "    \n",
    "class Graphe:\n",
    "    def __init__(self, noeuds):\n",
    "        assert isinstance(noeuds, list), \"Pas une liste\"\n",
    "        assert all(isinstance(n, Noeud) for n in noeuds), \"Pas une liste de noeuds\"\n",
    "        self.noeuds = noeuds\n",
    "    \n",
    "    def __repr__(self):\n",
    "        return \"Graphe:\\n\\t\" + \"\\n\\t\".join(map(repr, self.noeuds))\n",
    "    \n",
    "    def adjacence(self):\n",
    "        # On remplit la matrice de 0\n",
    "        mat = [[0 for _ in self.noeuds] for _ in self.noeuds]\n",
    "        # On met les 1\n",
    "        for (i,v) in enumerate(self.noeuds):\n",
    "            for u in v.out:\n",
    "                mat[i][self.noeuds.index(u)] = 1\n",
    "        return Matrice(mat)"
   ]
  },
  {
   "cell_type": "code",
   "execution_count": 248,
   "metadata": {
    "collapsed": false
   },
   "outputs": [
    {
     "data": {
      "text/plain": [
       "Graphe:\n",
       "\tNoeud(0) →1\n",
       "\tNoeud(1) →0\n",
       "\tNoeud(2) →0 →1"
      ]
     },
     "execution_count": 248,
     "metadata": {},
     "output_type": "execute_result"
    }
   ],
   "source": [
    "A = Noeud([])\n",
    "B = Noeud([A])\n",
    "C = Noeud([A, B])\n",
    "A.out.append(B)\n",
    "G = Graphe([A, B, C])\n",
    "G"
   ]
  },
  {
   "cell_type": "code",
   "execution_count": 249,
   "metadata": {
    "collapsed": false
   },
   "outputs": [
    {
     "data": {
      "text/plain": [
       "/ 0 1 0 \\\n",
       "| 1 0 0 |\n",
       "\\ 1 1 0 /"
      ]
     },
     "execution_count": 249,
     "metadata": {},
     "output_type": "execute_result"
    }
   ],
   "source": [
    "G.adjacence()"
   ]
  },
  {
   "cell_type": "code",
   "execution_count": 250,
   "metadata": {
    "collapsed": false
   },
   "outputs": [],
   "source": [
    "def mat_to_graph(mat):\n",
    "    assert mat.nblignes == mat.nbcolonnes, \"Pas une matrice carrée\"\n",
    "    G = Graphe([Noeud([]) for _ in range(mat.nblignes)])\n",
    "    for (i, ligne) in enumerate(mat.coeffs):\n",
    "        for (j, c) in enumerate(ligne):\n",
    "            if c:\n",
    "                G.noeuds[i].out.append(G.noeuds[j])\n",
    "    return G\n",
    "\n",
    "Matrice.graphe = mat_to_graph"
   ]
  },
  {
   "cell_type": "code",
   "execution_count": 251,
   "metadata": {
    "collapsed": false
   },
   "outputs": [
    {
     "data": {
      "text/plain": [
       "Graphe:\n",
       "\tNoeud(3) →3 →4 →11\n",
       "\tNoeud(4) \n",
       "\tNoeud(5) →10\n",
       "\tNoeud(6) →4 →5 →9\n",
       "\tNoeud(7) →9 →10\n",
       "\tNoeud(8) →4 →11\n",
       "\tNoeud(9) →8 →10\n",
       "\tNoeud(10) →7\n",
       "\tNoeud(11) →3 →6 →7\n",
       "\tNoeud(12) →5 →6 →12"
      ]
     },
     "execution_count": 251,
     "metadata": {},
     "output_type": "execute_result"
    }
   ],
   "source": [
    "M = rand_mat(10,10,20)\n",
    "G = M.graphe()\n",
    "G"
   ]
  },
  {
   "cell_type": "code",
   "execution_count": 252,
   "metadata": {
    "collapsed": false
   },
   "outputs": [
    {
     "data": {
      "text/plain": [
       "True"
      ]
     },
     "execution_count": 252,
     "metadata": {},
     "output_type": "execute_result"
    }
   ],
   "source": [
    "G.adjacence() == M"
   ]
  }
 ],
 "metadata": {
  "kernelspec": {
   "display_name": "Python 3",
   "language": "python",
   "name": "python3"
  },
  "language_info": {
   "codemirror_mode": {
    "name": "ipython",
    "version": 3
   },
   "file_extension": ".py",
   "mimetype": "text/x-python",
   "name": "python",
   "nbconvert_exporter": "python",
   "pygments_lexer": "ipython3",
   "version": "3.5.1"
  }
 },
 "nbformat": 4,
 "nbformat_minor": 1
}
