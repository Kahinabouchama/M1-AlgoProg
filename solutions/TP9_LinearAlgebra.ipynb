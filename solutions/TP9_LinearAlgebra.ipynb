{
 "cells": [
  {
   "cell_type": "code",
   "execution_count": 1,
   "metadata": {
    "collapsed": false
   },
   "outputs": [],
   "source": [
    "class Matrice:\n",
    "    \"\"\"\n",
    "    Ceci est une matrice.\n",
    "    \n",
    "    Passer une liste de coefficents au constructeur.\n",
    "    \"\"\"\n",
    "    def __init__(self, coefficients):\n",
    "        if not isinstance(coefficients, list):\n",
    "            raise RuntimeError(\"Pas une liste\")\n",
    "        if not len(coefficients) > 0:\n",
    "            raise RuntimeError(\"Matrice vide\")\n",
    "        if not all(isinstance(ligne, list)\n",
    "                   for ligne in coefficients):\n",
    "            raise RuntimeError(\"Pas une liste de listes\")\n",
    "            \n",
    "        self.nblignes = len(coefficients)\n",
    "        self.nbcolonnes = len(coefficients[0])\n",
    "        \n",
    "        if not all(len(ligne) == self.nbcolonnes\n",
    "                   for ligne in coefficients):\n",
    "            raise RuntimeError(\"Longueurs des lignes différentes\")\n",
    "        self.coeffs = coefficients\n",
    "   \n",
    "    def __repr__(self):\n",
    "        # On mesure la largeur maximale des colonnes\n",
    "        largeur = max(max(len(str(c)) for c in ligne) for ligne in self.coeffs)\n",
    "        \n",
    "        # On compose la sortie. On fait un large usage des fonctions de formatage\n",
    "        # \n",
    "        # https://docs.python.org/3.5/library/stdtypes.html#printf-style-string-formatting\n",
    "        resultat = \"\"\n",
    "        for (i, ligne) in enumerate(self.coeffs):\n",
    "            if i == 0:\n",
    "                template = \"/ %s \\\\\\n\" \n",
    "            elif i < len(self.coeffs) - 1:\n",
    "                template = \"| %s |\\n\" \n",
    "            else:\n",
    "                template = \"\\\\ %s /\"\n",
    "            resultat += template % \" \".join((\"%%%dd\" % largeur) % c for c in ligne)\n",
    "        return resultat\n",
    "    \n",
    "    def __eq__(self, other):\n",
    "        \"Méthode spéciale pour tester l'égalité de matrices\"\n",
    "        if not isinstance(other, Matrice):\n",
    "            return False\n",
    "        if self.nblignes != other.nblignes or self.nbcolonnes != other.nbcolonnes:\n",
    "            return False\n",
    "        return all(sc == oc \n",
    "                   for sligne, oligne in zip(self.coeffs, other.coeffs)\n",
    "                   for sc, oc in zip(sligne, oligne))\n",
    "\n",
    "    def __add__(self, other):\n",
    "        \"Méthode spéciale pour additionner deux matrices\"\n",
    "        if not isinstance(other, Matrice):\n",
    "            raise TypeError(\"Pas une matrice\")\n",
    "        if self.nblignes != other.nblignes or self.nbcolonnes != other.nbcolonnes:\n",
    "            raise RuntimeError(\"Pas la bonne taille\")\n",
    "        return Matrice([[sc + oc for sc, oc in zip(sligne, oligne)]\n",
    "                         for sligne, oligne in zip(self.coeffs, other.coeffs)])\n",
    "\n",
    "    def __neg__(self):\n",
    "        \"Méthode spéciale pour calculer l'opposée d'une matrice\"\n",
    "        return Matrice([[-c for c in ligne] for ligne in self.coeffs])\n",
    "    \n",
    "    def __sub__(self, other):\n",
    "        \"Méthode spéciale pour soustraire deux matrices\"\n",
    "        return self + (-other)\n",
    "    \n",
    "    def __mul__(self, other):\n",
    "        \"Méthode spéciale pour multiplier deux matrices\"\n",
    "        if not isinstance(other, Matrice):\n",
    "            raise TypeError(\"Pas une matrice\")\n",
    "        if self.nbcolonnes != other.nblignes:\n",
    "            raise RuntimeError(\"Pas la bonne taille\")\n",
    "            \n",
    "        # Première solution, en intialisant un tableau de 0 à deux dimensions.\n",
    "        # Pas très Pythonique...\n",
    "        matrice = [[0 for i in range(other.nbcolonnes)]\n",
    "                   for j in range(self.nblignes)]\n",
    "        for i in range(self.nblignes):\n",
    "            for j in range(other.nbcolonnes):\n",
    "                matrice[i][j] = sum(self.coeffs[i][k]*other.coeffs[k][j] \n",
    "                                    for k in range(self.nbcolonnes))\n",
    "        return Matrice(matrice)\n",
    "\n",
    "        # Deuxième solution, avec un tableau qui grandit au fur et à mesure\n",
    "#        matrice = []\n",
    "#        for i in range(self.nblignes):\n",
    "#            lignes = []\n",
    "#            for j in range(other.nbcolonnes):\n",
    "#                ligne.append(sum(...))\n",
    "#            matrice.append(ligne)\n",
    "#        return Matrice(matrice)\n",
    "\n",
    "\n",
    "        # Troisième solution, avec des compréhensions de listes\n",
    "#        return Matrice([\n",
    "#                        [\n",
    "#                         sum(self.coeffs[i][k]*other.coeffs[k][j] \n",
    "#                             for k in range(self.nbcolonnes))\n",
    "#                         for j in range(other.nbcolonnes)\n",
    "#                        ]\n",
    "#                        for i in range(self.nblignes)\n",
    "#                       ])\n",
    "\n",
    "\n",
    "    def strassen(self, other, threshold=1):\n",
    "        \"\"\"\n",
    "        Multiplication de Strassen.\n",
    "        \n",
    "        Le paramètre optionnel `threshold` indique à quelle taille arrêter la récurrence.\n",
    "        \"\"\"\n",
    "        if not isinstance(other, Matrice):\n",
    "            raise TypeError(\"Pas une matrice\")\n",
    "        if not self.nblignes == self.nbcolonnes == other.nblignes == other.nbcolonnes:\n",
    "            raise RuntimeError(\"Pas la bonne taille\")\n",
    "        if threshold < 1:\n",
    "            raise RuntimeError(\"Seuil trop bas\")\n",
    "        \n",
    "        n = self.nblignes\n",
    "        # Si on est en dessous du seuil de récursion, on applique la multiplication naïve\n",
    "        if n <= threshold:\n",
    "            return self * other\n",
    "        # Si n est impair, on ajoute une ligne et une colonne de 0 et on applique récursivement\n",
    "        # (ce cas n'était pas demandé dans le TD)\n",
    "        elif n % 2 == 1:\n",
    "            # Cette fonction crée une nouvelle matrice en ajoutant une ligne et une colonne de 0\n",
    "            def augmenter(matrice):\n",
    "                # La sytanxe liste[:] est une astuce classique python pour copier une liste\n",
    "                return Matrice([ligne[:] + [0] for ligne in matrice.coeffs] + [[0]*(n+1)])\n",
    "            # On appelle l'algorithme sur les matrices augmentées\n",
    "            tmp = augmenter(self).strassen(augmenter(other), threshold)\n",
    "            # On enlève la dernière ligne\n",
    "            del tmp.coeffs[-1]\n",
    "            # et la dernière colonne\n",
    "            for ligne in tmp.coeffs:\n",
    "                del ligne[-1]\n",
    "            # On met à jour la taille de la matrice temporaire\n",
    "            tmp.nblignes = tmp.nbcolonnes = n\n",
    "            return tmp\n",
    "        # Algorithme de Strassen\n",
    "        else:\n",
    "            m = n // 2\n",
    "            # Cette fonction crée 4 sous-matrices de taille identique\n",
    "            #\n",
    "            # Elle utilise lourdement la syntaxe liste[a:b], qui sélectionne \n",
    "            # la sous-liste contenant les éléments de a jusqu'à b-1.\n",
    "            def blocs(matrice):\n",
    "                a = Matrice([ligne[:m] for ligne in matrice.coeffs[:m]])\n",
    "                b = Matrice([ligne[m:] for ligne in matrice.coeffs[:m]])\n",
    "                c = Matrice([ligne[:m] for ligne in matrice.coeffs[m:]])\n",
    "                d = Matrice([ligne[m:] for ligne in matrice.coeffs[m:]])\n",
    "                return a, b, c, d\n",
    "            a, b, c, d = blocs(self)\n",
    "            x, y, z, t = blocs(other)\n",
    "            # Appels récursifs\n",
    "            q1 = a.strassen(x+z, threshold)\n",
    "            q2 = d.strassen(y+t, threshold)\n",
    "            q3 = (d-a).strassen(z-y, threshold)\n",
    "            q4 = (b-d).strassen(z+t, threshold)\n",
    "            q5 = (b-a).strassen(z, threshold)\n",
    "            q6 = (c-a).strassen(x+y, threshold)\n",
    "            q7 = (c-d).strassen(y, threshold)\n",
    "            # Recombinaison du résultat\n",
    "            A, B, C, D = q1+q5, q2+q3+q4-q5, q1+q3+q6-q7, q2+q7\n",
    "            \n",
    "            return Matrice([Aligne + Bligne for Aligne, Bligne in zip(A.coeffs, B.coeffs)]\n",
    "                           + [Cligne + Dligne for Cligne, Dligne in zip(C.coeffs, D.coeffs)])"
   ]
  },
  {
   "cell_type": "code",
   "execution_count": 2,
   "metadata": {
    "collapsed": false
   },
   "outputs": [
    {
     "data": {
      "text/plain": [
       "(True, False, True)"
      ]
     },
     "execution_count": 2,
     "metadata": {},
     "output_type": "execute_result"
    }
   ],
   "source": [
    "A = Matrice([[1,2,3],[4,5,6],[7,8,9]])\n",
    "B = Matrice([[10,9,8],[7,6,5],[4,3,2]])\n",
    "A == A, A == B, B == B"
   ]
  },
  {
   "cell_type": "code",
   "execution_count": 3,
   "metadata": {
    "collapsed": false
   },
   "outputs": [
    {
     "data": {
      "text/plain": [
       "/ 11 11 11 \\\n",
       "| 11 11 11 |\n",
       "\\ 11 11 11 /"
      ]
     },
     "execution_count": 3,
     "metadata": {},
     "output_type": "execute_result"
    }
   ],
   "source": [
    "A+B"
   ]
  },
  {
   "cell_type": "code",
   "execution_count": 4,
   "metadata": {
    "collapsed": false
   },
   "outputs": [
    {
     "data": {
      "text/plain": [
       "/ -10  -9  -8 \\\n",
       "|  -7  -6  -5 |\n",
       "\\  -4  -3  -2 /"
      ]
     },
     "execution_count": 4,
     "metadata": {},
     "output_type": "execute_result"
    }
   ],
   "source": [
    "-B"
   ]
  },
  {
   "cell_type": "code",
   "execution_count": 5,
   "metadata": {
    "collapsed": false
   },
   "outputs": [
    {
     "data": {
      "text/plain": [
       "/ -9 -7 -5 \\\n",
       "| -3 -1  1 |\n",
       "\\  3  5  7 /"
      ]
     },
     "execution_count": 5,
     "metadata": {},
     "output_type": "execute_result"
    }
   ],
   "source": [
    "A-B"
   ]
  },
  {
   "cell_type": "code",
   "execution_count": 6,
   "metadata": {
    "collapsed": false
   },
   "outputs": [
    {
     "data": {
      "text/plain": [
       "/  36  30  24 \\\n",
       "|  99  84  69 |\n",
       "\\ 162 138 114 /"
      ]
     },
     "execution_count": 6,
     "metadata": {},
     "output_type": "execute_result"
    }
   ],
   "source": [
    "A*B"
   ]
  },
  {
   "cell_type": "code",
   "execution_count": 7,
   "metadata": {
    "collapsed": false
   },
   "outputs": [
    {
     "data": {
      "text/plain": [
       "/  36  30  24 \\\n",
       "|  99  84  69 |\n",
       "\\ 162 138 114 /"
      ]
     },
     "execution_count": 7,
     "metadata": {},
     "output_type": "execute_result"
    }
   ],
   "source": [
    "A.strassen(B)"
   ]
  },
  {
   "cell_type": "markdown",
   "metadata": {},
   "source": [
    "## Tests"
   ]
  },
  {
   "cell_type": "code",
   "execution_count": 8,
   "metadata": {
    "collapsed": true
   },
   "outputs": [],
   "source": [
    "def rand_mat(lignes, colonnes, coeffs, min=1, max=1, sym=False):\n",
    "    \"Fonction d'utilité pour générer des matrices aléatoires\"\n",
    "    \n",
    "    if (sym and lignes != colonnes):\n",
    "        raise RuntimeError(\"Seules les matrices carrées peuvent être symétriques\")\n",
    "    if coeffs > lignes*colonnes:\n",
    "        raise RuntimeError(\"Trop de coefficients\")\n",
    "    \n",
    "    # On crée une liste avec autant d'éléments que la matrice à créer\n",
    "    # Elle commence par des éléments entre min et max, et se termine par des 0\n",
    "    from random import randint, sample\n",
    "    nonzero = coeffs if not sym else coeffs // 2\n",
    "    total = lignes*colonnes if not sym else lignes*(lignes+1) // 2\n",
    "    entrees = [randint(min, max) for _ in range(nonzero)] + [0]*(total - nonzero)\n",
    "    \n",
    "    # On permute la liste avec l'algorithme de Fisher-Yates \n",
    "    # https://en.wikipedia.org/wiki/Fisher–Yates_shuffle\n",
    "    for i in reversed(range(len(entrees))):\n",
    "        j = randint(0,i)\n",
    "        entrees[i], entrees[j] = entrees[j], entrees[i]\n",
    "        \n",
    "    if not sym:\n",
    "        # On découpe en lignes\n",
    "        mat = [entrees[i*colonnes : (i+1)*colonnes] for i in range(lignes)]\n",
    "    else:\n",
    "        # On remplit la partie triangulaire inférieure\n",
    "        mat = [entrees[i*(i+1)//2 : (i+1)*(i+2)//2] + [None]*(lignes-i-1)\n",
    "               for i in range(lignes)]\n",
    "        # On symétrise\n",
    "        for i in range(lignes):\n",
    "            for j in range(i+1,lignes):\n",
    "                mat[i][j] = mat[j][i]\n",
    "        # On a été assez laxistes par rapport au paramètre coeffs\n",
    "    return Matrice(mat)"
   ]
  },
  {
   "cell_type": "markdown",
   "metadata": {},
   "source": [
    "Ici on fait des tests aléatoires pour vérifier que la méthode Strassen calcule le même résultat que la méthode naïve (cela prend quelques secondes)."
   ]
  },
  {
   "cell_type": "code",
   "execution_count": 9,
   "metadata": {
    "collapsed": false
   },
   "outputs": [],
   "source": [
    "def rand_dense_pair(n):\n",
    "    return rand_mat(n, n, n**2, min=-10, max=10), rand_mat(n, n, n**2, min=-10, max=10)\n",
    "\n",
    "for n in range(1,30):\n",
    "    A, B = rand_dense_pair(n)\n",
    "    assert A*B == A.strassen(B)"
   ]
  },
  {
   "cell_type": "markdown",
   "metadata": {},
   "source": [
    "Ici on compare les temps d'éxécution pour $n$ qui grandit exponentiellement. On utilse la variante `%timeit -o`, qui permet de stocker les temps d'éxécution dans une variable"
   ]
  },
  {
   "cell_type": "code",
   "execution_count": 10,
   "metadata": {
    "collapsed": false
   },
   "outputs": [
    {
     "name": "stdout",
     "output_type": "stream",
     "text": [
      "2^2:\n",
      "10000 loops, best of 3: 38.4 µs per loop\n",
      "1000 loops, best of 3: 1.3 ms per loop\n",
      "2^3:\n",
      "10000 loops, best of 3: 192 µs per loop\n",
      "100 loops, best of 3: 9.29 ms per loop\n",
      "2^4:\n",
      "1000 loops, best of 3: 1.19 ms per loop\n",
      "10 loops, best of 3: 67.7 ms per loop\n",
      "2^5:\n",
      "100 loops, best of 3: 8.53 ms per loop\n",
      "1 loop, best of 3: 454 ms per loop\n",
      "2^6:\n",
      "10 loops, best of 3: 64 ms per loop\n",
      "1 loop, best of 3: 3.22 s per loop\n"
     ]
    }
   ],
   "source": [
    "Tnaif, Tstrassen = [], []\n",
    "for i in range(2,7):\n",
    "    A, B = rand_dense_pair(2**i)\n",
    "    print('2^%d:' % i)\n",
    "    n = %timeit -o A*B\n",
    "    s = %timeit -o A.strassen(B)\n",
    "    Tnaif.append(n)\n",
    "    Tstrassen.append(s)"
   ]
  },
  {
   "cell_type": "markdown",
   "metadata": {},
   "source": [
    "On vérifie que la théorie de la complexité ne nous dit pas de bêtises. En effet, les temps d'exécutions de la méthode de Strassen sont multipliés par 7 à chaque doublement."
   ]
  },
  {
   "cell_type": "code",
   "execution_count": 11,
   "metadata": {
    "collapsed": false
   },
   "outputs": [
    {
     "data": {
      "text/plain": [
       "[7.1478619130177545, 7.286932015592037, 6.708654781240372, 7.089384104164032]"
      ]
     },
     "execution_count": 11,
     "metadata": {},
     "output_type": "execute_result"
    }
   ],
   "source": [
    "[ip1.best/i.best for i, ip1 in zip(Tstrassen, Tstrassen[1:])]"
   ]
  },
  {
   "cell_type": "markdown",
   "metadata": {},
   "source": [
    "La méthode naïve montre un comportement plus erratique, mais on voit qu'elle tend à une multiplcation par 8."
   ]
  },
  {
   "cell_type": "code",
   "execution_count": 12,
   "metadata": {
    "collapsed": false
   },
   "outputs": [
    {
     "data": {
      "text/plain": [
       "[4.999782799353292, 6.192996808629072, 7.17394316201518, 7.508284653382372]"
      ]
     },
     "execution_count": 12,
     "metadata": {},
     "output_type": "execute_result"
    }
   ],
   "source": [
    "[ip1.best/i.best for i, ip1 in zip(Tnaif, Tnaif[1:])]"
   ]
  },
  {
   "cell_type": "code",
   "execution_count": 13,
   "metadata": {
    "collapsed": false
   },
   "outputs": [
    {
     "data": {
      "text/plain": [
       "[33.85264005997392,\n",
       " 48.396901675625855,\n",
       " 56.94576360578595,\n",
       " 53.25236911662773,\n",
       " 50.28132477028906]"
      ]
     },
     "execution_count": 13,
     "metadata": {},
     "output_type": "execute_result"
    }
   ],
   "source": [
    "[s.best / n.best for s, n in zip(Tstrassen, Tnaif)]"
   ]
  },
  {
   "cell_type": "markdown",
   "metadata": {},
   "source": [
    "On voit que la méthode de Strassen est 50 fois plus lente que la méthode naïve pour $n=2^6$. À ce rythme, on s'attend à voir un croisement après $\\log(50)/\\log(8/7)$ doublements, c'est à dire..."
   ]
  },
  {
   "cell_type": "code",
   "execution_count": 14,
   "metadata": {
    "collapsed": false
   },
   "outputs": [
    {
     "data": {
      "text/plain": [
       "35.296653981797206"
      ]
     },
     "execution_count": 14,
     "metadata": {},
     "output_type": "execute_result"
    }
   ],
   "source": [
    "import math\n",
    "6 + math.log(50,8/7)"
   ]
  },
  {
   "cell_type": "markdown",
   "metadata": {},
   "source": [
    "$n > 2^{35}$!! On rappelle qu'un ordinateur moyen a environ $2^{32}$ octets de mémoire. Autant dire que nous n'avons aucune chance d'observer ce croisement.\n",
    "\n",
    "Heureusement, nous avons programmé l'algorithme de Strassen avec la possibilité d'arrêter la récursion en dessous d'un seuil."
   ]
  },
  {
   "cell_type": "code",
   "execution_count": 15,
   "metadata": {
    "collapsed": false
   },
   "outputs": [
    {
     "name": "stdout",
     "output_type": "stream",
     "text": [
      "2^6:\n",
      "1 loop, best of 1: 81.1 ms per loop\n",
      "1 loop, best of 1: 65.8 ms per loop\n",
      "2^7:\n",
      "1 loop, best of 1: 516 ms per loop\n",
      "1 loop, best of 1: 459 ms per loop\n",
      "2^8:\n",
      "1 loop, best of 1: 4.1 s per loop\n",
      "1 loop, best of 1: 3.25 s per loop\n",
      "2^9:\n",
      "1 loop, best of 1: 35.2 s per loop\n",
      "1 loop, best of 1: 22.9 s per loop\n"
     ]
    }
   ],
   "source": [
    "Tnaif, Tstrassen = [], []\n",
    "for i in range(6,10):\n",
    "    A, B = rand_dense_pair(2**i)\n",
    "    print('2^%d:' % i)\n",
    "    n = %timeit -n 1 -r 1 -o A*B\n",
    "    s = %timeit -n 1 -r 1 -o A.strassen(B,32)\n",
    "    Tnaif.append(n)\n",
    "    Tstrassen.append(s)"
   ]
  },
  {
   "cell_type": "markdown",
   "metadata": {},
   "source": [
    "Alléluja! Nous avons un algorithme de Strassen qui bat l'algorithme naïf à partir de $n>64$!"
   ]
  },
  {
   "cell_type": "code",
   "execution_count": 16,
   "metadata": {
    "collapsed": false
   },
   "outputs": [
    {
     "data": {
      "text/plain": [
       "[6.366631330881102, 7.9349529833400005, 8.60370631881581]"
      ]
     },
     "execution_count": 16,
     "metadata": {},
     "output_type": "execute_result"
    }
   ],
   "source": [
    "[ip1.best/i.best for i, ip1 in zip(Tnaif, Tnaif[1:])]"
   ]
  },
  {
   "cell_type": "code",
   "execution_count": 17,
   "metadata": {
    "collapsed": false
   },
   "outputs": [
    {
     "data": {
      "text/plain": [
       "[6.968606551026245, 7.082806339742401, 7.058623326814391]"
      ]
     },
     "execution_count": 17,
     "metadata": {},
     "output_type": "execute_result"
    }
   ],
   "source": [
    "[ip1.best/i.best for i, ip1 in zip(Tstrassen, Tstrassen[1:])]"
   ]
  },
  {
   "cell_type": "code",
   "execution_count": null,
   "metadata": {
    "collapsed": true
   },
   "outputs": [],
   "source": []
  }
 ],
 "metadata": {
  "kernelspec": {
   "display_name": "Python 3",
   "language": "python",
   "name": "python3"
  },
  "language_info": {
   "codemirror_mode": {
    "name": "ipython",
    "version": 3
   },
   "file_extension": ".py",
   "mimetype": "text/x-python",
   "name": "python",
   "nbconvert_exporter": "python",
   "pygments_lexer": "ipython3",
   "version": "3.5.1"
  }
 },
 "nbformat": 4,
 "nbformat_minor": 0
}
